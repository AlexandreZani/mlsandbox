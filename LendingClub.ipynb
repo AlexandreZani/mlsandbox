{
 "cells": [
  {
   "cell_type": "code",
   "execution_count": 2,
   "metadata": {
    "collapsed": false
   },
   "outputs": [
    {
     "name": "stdout",
     "output_type": "stream",
     "text": [
      "{'bc_util': '89.4', 'mo_sin_old_rev_tl_op': '290', 'open_il_24m': '', 'last_pymnt_d': 'May-2016', 'num_il_tl': '9', 'out_prncp_inv': '2478.36', 'revol_util': '44.4%', 'out_prncp': '2478.36', 'grade': 'B', 'pymnt_plan': 'n', 'total_rec_int': '1469.69', 'percent_bc_gt_75': '66.7', 'pct_tl_nvr_dlq': '77.3', 'acc_now_delinq': '0', 'mths_since_recent_revol_delinq': '11', 'mths_since_recent_inq': '8', 'num_actv_rev_tl': '4', 'num_bc_sats': '3', 'recoveries': '0.0', 'mths_since_recent_bc': '25', 'max_bal_bc': '', 'annual_inc': '102000', 'inq_last_12m': '', 'last_credit_pull_d': 'Apr-2016', 'funded_amnt_inv': '10000', 'total_pymnt': '8991.33', 'mths_since_rcnt_il': '', 'avg_cur_bal': '4349', 'dti_joint': '', 'mo_sin_rcnt_rev_tl_op': '23', 'collections_12_mths_ex_med': '0', 'delinq_amnt': '0', 'mort_acc': '0', 'desc': '', 'num_actv_bc_tl': '3', 'mths_since_last_major_derog': '54', 'tot_hi_cred_lim': '58486', 'dti': '15.55', 'emp_length': '7 years', 'total_bal_ex_mort': '39143', 'inq_last_6mths': '0', 'collection_recovery_fee': '0.0', 'open_acc_6m': '', 'title': 'Clean Up', 'num_tl_op_past_12m': '1', 'total_il_high_credit_limit': '36186', 'inq_fi': '', 'last_pymnt_amnt': '321.13', 'delinq_2yrs': '2', 'num_op_rev_tl': '6', 'chargeoff_within_12_mths': '0', 'int_rate': '  9.67%', 'total_bc_limit': '9200', 'bc_open_to_buy': '973', 'tot_cur_bal': '39143', 'term': ' 36 months', 'mths_since_last_record': '', 'zip_code': '027xx', 'verification_status': 'Not Verified', 'initial_list_status': 'f', 'id': '10159611', 'total_rec_prncp': '7521.64', 'open_il_6m': '', 'num_rev_tl_bal_gt_0': '4', 'mths_since_last_delinq': '11', 'revol_bal': '9912', 'installment': '321.13', 'member_id': '12011228', 'annual_inc_joint': '', 'mo_sin_old_il_acct': '243', 'num_accts_ever_120_pd': '1', 'loan_status': 'Current', 'application_type': 'INDIVIDUAL', 'issue_d': 'Dec-2013', 'verification_status_joint': '', 'next_pymnt_d': 'Jul-2016', 'total_pymnt_inv': '8991.33', 'num_sats': '9', 'open_rv_12m': '', 'loan_amnt': '10000', 'total_bal_il': '', 'sub_grade': 'B1', 'num_rev_accts': '13', 'funded_amnt': '10000', 'emp_title': 'Registered Nurse', 'pub_rec': '0', 'total_acc': '22', 'url': 'https://lendingclub.com/browse/loanDetail.action?loan_id=10159611', 'mo_sin_rcnt_tl': '8', 'il_util': '', 'addr_state': 'MA', 'total_cu_tl': '', 'total_rec_late_fee': '0.0', 'num_bc_tl': '6', 'tot_coll_amt': '0', 'home_ownership': 'MORTGAGE', 'pub_rec_bankruptcies': '0', 'all_util': '', 'num_tl_90g_dpd_24m': '0', 'tax_liens': '0', 'num_tl_120dpd_2m': '0', 'purpose': 'debt_consolidation', 'earliest_cr_line': 'Oct-1989', 'acc_open_past_24mths': '3', 'mths_since_recent_bc_dlq': '11', 'policy_code': '1', 'open_rv_24m': '', 'open_acc': '9', 'num_tl_30dpd': '0', 'total_rev_hi_lim': '22300', 'open_il_12m': ''}\n"
     ]
    }
   ],
   "source": [
    "import csv\n",
    "\n",
    "csv_data = []\n",
    "\n",
    "with open('LoanStats3b.csv') as csv_file:\n",
    "    reader = csv.DictReader(csv_file)\n",
    "    csv_data = [row for row in reader]\n",
    "    \n",
    "print(csv_data[0])"
   ]
  },
  {
   "cell_type": "code",
   "execution_count": 3,
   "metadata": {
    "collapsed": false
   },
   "outputs": [
    {
     "name": "stdout",
     "output_type": "stream",
     "text": [
      "{'Not Verified', 'Source Verified', 'Verified'}\n",
      "0\n",
      "{0, 1}\n",
      "(180246, 6)\n",
      "(180246,)\n"
     ]
    }
   ],
   "source": [
    "#cleanup\n",
    "csv_data = [row for row in csv_data if row['loan_status'] is not None]\n",
    "csv_data = [row for row in csv_data if row['emp_length'] != 'n/a']\n",
    "print(set(row['verification_status'] for row in csv_data))\n",
    "print(len([1 for row in csv_data if row['emp_length'] == 'n/a']))\n",
    "\n",
    "numeric_status = {'Charged Off': 1,\n",
    "                   'Current': 0,\n",
    "                   'Default': 1,\n",
    "                   'Fully Paid': 0,\n",
    "                   'In Grace Period': 0,\n",
    "                   'Late (16-30 days)': 0,\n",
    "                   'Late (31-120 days)': 1,\n",
    "                  }\n",
    "\n",
    "def fix_data(row):\n",
    "    row['num_status'] = numeric_status[row['loan_status']]\n",
    "    if not row['annual_inc_joint']:\n",
    "        row['annual_inc_joint'] = row['annual_inc']\n",
    "        \n",
    "    float_values = ['annual_inc', 'annual_inc_joint', 'loan_amnt']\n",
    "    int_values = ['term']\n",
    "    for k in float_values:\n",
    "        row[k] = float(row[k])\n",
    "    \n",
    "    if not isinstance(row['emp_length'], int):\n",
    "        if row['emp_length'] == '< 1 year':\n",
    "            row['emp_length'] = 0\n",
    "        else:\n",
    "            row['emp_length'] = int(row['emp_length'][:2])\n",
    "            \n",
    "    if not isinstance(row['term'], int):\n",
    "        row['term'] = int(row['term'][:3])\n",
    "        \n",
    "    if row['verification_status'] == 'Verified':\n",
    "        row['income_verified'] = 1\n",
    "    else: # Includes both not verified and \"source verified\"\n",
    "        row['income_verified'] = 0\n",
    "    \n",
    "    return row\n",
    "\n",
    "for row in csv_data:\n",
    "    fix_data(row)\n",
    "    \n",
    "print(set(row['num_status'] for row in csv_data))\n",
    "\n",
    "variables_of_interest = [\n",
    "    'annual_inc', # annual income disclosed on application\n",
    "    'annual_inc_joint', # total annual income of co-borrowers\n",
    "    'emp_length', # employment tenure in years\n",
    "    'income_verified', # Was the income verified\n",
    "    'term', # The number of payments on the loan. Values are in months and can be either 36 or 60.\n",
    "    'loan_amnt', # The listed amount of the loan applied for by the borrower. If at some point in time, the credit department reduces the loan amount, then it will be reflected in this value.\n",
    "]\n",
    "\n",
    "import numpy as np\n",
    "X = np.array([[row[var] for var in variables_of_interest] for row in csv_data])\n",
    "print(X.shape)\n",
    "y = np.array([row['num_status'] for row in csv_data])\n",
    "print(y.shape)"
   ]
  },
  {
   "cell_type": "code",
   "execution_count": 4,
   "metadata": {
    "collapsed": false
   },
   "outputs": [],
   "source": [
    "from sklearn.cross_validation import train_test_split\n",
    "X_train, X_test, y_train, y_test = train_test_split(X, y, test_size=0.8, random_state=0)\n",
    "\n",
    "from sklearn.preprocessing import StandardScaler\n",
    "sc = StandardScaler()\n",
    "sc.fit(X_train)\n",
    "X_train_std = sc.transform(X_train)\n",
    "X_test_std = sc.transform(X_test)"
   ]
  },
  {
   "cell_type": "code",
   "execution_count": 5,
   "metadata": {
    "collapsed": false
   },
   "outputs": [
    {
     "name": "stdout",
     "output_type": "stream",
     "text": [
      "20092 144197 0.8606628431936865\n"
     ]
    }
   ],
   "source": [
    "print(sum(y_test), len(y_test), 1-float(sum(y_test)/len(y_test)))"
   ]
  },
  {
   "cell_type": "code",
   "execution_count": 6,
   "metadata": {
    "collapsed": false
   },
   "outputs": [
    {
     "name": "stdout",
     "output_type": "stream",
     "text": [
      "0 144197 1.0\n"
     ]
    },
    {
     "data": {
      "text/plain": [
       "0.86066284319368647"
      ]
     },
     "execution_count": 6,
     "metadata": {},
     "output_type": "execute_result"
    }
   ],
   "source": [
    "from sklearn.linear_model import LogisticRegression\n",
    "lr = LogisticRegression(C=10.0, random_state=0)\n",
    "lr.fit(X_train_std, y_train)\n",
    "\n",
    "from sklearn.metrics import accuracy_score\n",
    "y_pred = lr.predict(X_test_std)\n",
    "print(sum(y_pred), len(y_pred), 1-float(sum(y_pred)/len(y_pred)))\n",
    "accuracy_score(y_test, y_pred)"
   ]
  },
  {
   "cell_type": "code",
   "execution_count": null,
   "metadata": {
    "collapsed": false
   },
   "outputs": [
    {
     "name": "stdout",
     "output_type": "stream",
     "text": [
      "10836 144197 0.9248528055368697\n"
     ]
    },
    {
     "data": {
      "text/plain": [
       "0.81082824191904135"
      ]
     },
     "execution_count": 7,
     "metadata": {},
     "output_type": "execute_result"
    }
   ],
   "source": [
    "from sklearn.ensemble import RandomForestClassifier\n",
    "forest = RandomForestClassifier(criterion='entropy', n_estimators=5, random_state=0, n_jobs=1)\n",
    "forest.fit(X_train_std, y_train)\n",
    "\n",
    "y_pred = forest.predict(X_test_std)\n",
    "print(sum(y_pred), len(y_pred), 1-float(sum(y_pred)/len(y_pred)))\n",
    "accuracy_score(y_test, y_pred)"
   ]
  }
 ],
 "metadata": {
  "kernelspec": {
   "display_name": "Python 3",
   "language": "python",
   "name": "python3"
  },
  "language_info": {
   "codemirror_mode": {
    "name": "ipython",
    "version": 3
   },
   "file_extension": ".py",
   "mimetype": "text/x-python",
   "name": "python",
   "nbconvert_exporter": "python",
   "pygments_lexer": "ipython3",
   "version": "3.4.3"
  }
 },
 "nbformat": 4,
 "nbformat_minor": 0
}
