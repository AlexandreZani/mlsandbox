{
 "cells": [
  {
   "cell_type": "code",
   "execution_count": 9,
   "metadata": {
    "collapsed": false
   },
   "outputs": [],
   "source": [
    "import numpy as np\n",
    "import matplotlib.pyplot as plt\n",
    "import ann\n",
    "    %matplotlib inline\n",
    "\n",
    "        "
   ]
  },
  {
   "cell_type": "code",
   "execution_count": 10,
   "metadata": {
    "collapsed": false,
    "scrolled": true
   },
   "outputs": [
    {
     "data": {
      "text/plain": [
       "<matplotlib.collections.PathCollection at 0x7ff7089ab6a0>"
      ]
     },
     "execution_count": 10,
     "metadata": {},
     "output_type": "execute_result"
    },
    {
     "data": {
      "image/png": "[encoded data removed]",
      "text/plain": [
       "<matplotlib.figure.Figure at 0x7ff708a814e0>"
      ]
     },
     "metadata": {},
     "output_type": "display_data"
    }
   ],
   "source": [
    "# Now we generate some synthetic data\n",
    "np.random.seed(10)\n",
    "\n",
    "N = 100\n",
    "X = np.round(np.random.rand(N, 2) * 2 - 1, decimals=2)\n",
    "y = np.zeros((N, 1))\n",
    "\n",
    "for i, x in enumerate(X):\n",
    "    if np.sum(x) > 0:\n",
    "        y[i][0] = 1\n",
    "        \n",
    "np.sum(y, axis=0)\n",
    "\n",
    "\n",
    "X.reshape(X.size)\n",
    "X.shape\n",
    "plt.figure(figsize=(10,10))\n",
    "plt.scatter(X[:, 0], X[:, 1], c=y[:, 0], edgecolors='face')"
   ]
  },
  {
   "cell_type": "code",
   "execution_count": 11,
   "metadata": {
    "collapsed": false
   },
   "outputs": [
    {
     "name": "stdout",
     "output_type": "stream",
     "text": [
      "numeric_gradients [array([ 0.91540268,  0.49431745, -0.87878658]), array([], dtype=float64)]\n",
      "backprop_gradients [array([[ 0.45770134],\n",
      "       [ 0.24715872],\n",
      "       [-0.43939329]]), array([], dtype=float64)]\n",
      "params [[ 0.38]\n",
      " [-0.68]\n",
      " [ 0.19]]\n",
      "x_sample [[ 0.54 -0.96]]\n",
      "[[ 0.45770134]]\n",
      "0.611938399551\n",
      "4.57713752449e-05 2.47162343531e-05 -4.39381850678e-05\n"
     ]
    }
   ],
   "source": [
    "np.random.seed(10)\n",
    "nn = ann.NewNeuralNet(2, 1)\n",
    "\n",
    "np.random.seed(20)\n",
    "#print(nn.compute_cost(X, y))\n",
    "\n",
    "x_sample = X[0].reshape(1, 2)\n",
    "y_sample = y[0]\n",
    "\n",
    "print(\"numeric_gradients\", nn.numeric_gradients(x_sample, y_sample))\n",
    "backprop_gradients = nn.backprop_gradients(x_sample, y_sample)\n",
    "print(\"backprop_gradients\", backprop_gradients)\n",
    "\n",
    "#print(\"numeric_gradients\", nn.numeric_gradients(x_sample, y_sample))\n",
    "\n",
    "print(\"params\", nn._layers[0].params())\n",
    "print(\"x_sample\", x_sample)\n",
    "print(nn.compute(x_sample))\n",
    "\n",
    "original_cost = nn.compute_cost(x_sample, y_sample)\n",
    "print(original_cost)\n",
    "\n",
    "d = 0.0001\n",
    "nn._layers[0]._params[0][0] += d\n",
    "n0_cost = nn.compute_cost(x_sample, y_sample)\n",
    "nn._layers[0]._params[0][0] -= d\n",
    "\n",
    "nn._layers[0]._params[1][0] += d\n",
    "n1_cost = nn.compute_cost(x_sample, y_sample)\n",
    "nn._layers[0]._params[1][0] -= d\n",
    "\n",
    "nn._layers[0]._params[2][0] += d\n",
    "n2_cost = nn.compute_cost(x_sample, y_sample)\n",
    "nn._layers[0]._params[2][0] -= d\n",
    "\n",
    "print(n0_cost - original_cost, n1_cost-original_cost, n2_cost-original_cost)\n"
   ]
  },
  {
   "cell_type": "code",
   "execution_count": 12,
   "metadata": {
    "collapsed": false
   },
   "outputs": [
    {
     "name": "stdout",
     "output_type": "stream",
     "text": [
      "0.668575734234\n",
      "(100, 2)\n",
      "0.0577997114313\n"
     ]
    }
   ],
   "source": [
    "np.random.seed(10)\n",
    "\n",
    "nn = ann.NewNeuralNet(2, 3, 1)\n",
    "print(nn.compute_cost(X, y))\n",
    "print(X.shape)\n",
    "learning_rate = 0.1\n",
    "np.random.seed(20)\n",
    "for i in range(1000):\n",
    "    sample_i = np.random.randint(0, len(y))\n",
    "    x_sample = X[sample_i]\n",
    "    y_sample = y[sample_i]\n",
    "    gradients = nn.backprop_gradients(x_sample, y_sample)\n",
    "    gradients[0] *= learning_rate\n",
    "    nn.update_params(gradients)\n",
    "    \n",
    "print(nn.compute_cost(X, y))"
   ]
  }
 ],
 "metadata": {
  "kernelspec": {
   "display_name": "Python 3",
   "language": "python",
   "name": "python3"
  },
  "language_info": {
   "codemirror_mode": {
    "name": "ipython",
    "version": 3
   },
   "file_extension": ".py",
   "mimetype": "text/x-python",
   "name": "python",
   "nbconvert_exporter": "python",
   "pygments_lexer": "ipython3",
   "version": "3.4.3"
  }
 },
 "nbformat": 4,
 "nbformat_minor": 0
}
