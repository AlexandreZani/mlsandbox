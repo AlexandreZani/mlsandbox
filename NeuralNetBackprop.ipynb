{
 "cells": [
  {
   "cell_type": "code",
   "execution_count": 83,
   "metadata": {
    "collapsed": false
   },
   "outputs": [],
   "source": [
    "import numpy as np\n",
    "import matplotlib.pyplot as plt\n",
    "%matplotlib inline\n",
    "\n",
    "        "
   ]
  },
  {
   "cell_type": "code",
   "execution_count": 84,
   "metadata": {
    "collapsed": false
   },
   "outputs": [],
   "source": [
    "class Layer(object):\n",
    "    def compute(self, x):\n",
    "        raise NotImplemented()\n",
    "\n",
    "    # Returns a maybe-empty matrix that contains all the parameters of the layer.\n",
    "    def params(self):\n",
    "        return self._params\n",
    "    \n",
    "    def dcostdx(self, x, y, dcostdy):\n",
    "        raise NotImplemented()\n",
    "        \n",
    "    def dcostdparams(self, x, y, dcostdy):\n",
    "        return np.array([])\n",
    "        \n",
    "    def update_params(self, gradients):\n",
    "        if len(gradients.shape) == 1:\n",
    "            gradients.shape = self._params.shape\n",
    "        if gradients.shape != self._params.shape:\n",
    "            raise Exception(\"Gradients should be the same size as the parameters\")\n",
    "        self._params -= gradients\n",
    "\n",
    "class Network(object):\n",
    "    def __init__(self, layers, cost_function):\n",
    "        self._layers = layers\n",
    "        self._cost_function = cost_function\n",
    "        \n",
    "    def compute(self, x):\n",
    "        for layer in self._layers:\n",
    "            x = layer.compute(x)\n",
    "            \n",
    "        return x\n",
    "    \n",
    "    def compute_single_cost(self, x, y):\n",
    "        y_ = self.compute(x)\n",
    "        return self._cost_function.compute(y, y_)\n",
    "    \n",
    "    def compute_cost(self, X, y):\n",
    "        y_ = self.compute(X)\n",
    "        cost = self._cost_function.compute(y, y_)\n",
    "        assert cost.shape[0] == len(y)\n",
    "        return np.sum(cost) / len(y)\n",
    "    \n",
    "    def backprop_gradients(self, x, y):\n",
    "        results = [x]\n",
    "        for layer in self._layers:\n",
    "            x = layer.compute(x)\n",
    "            results.append(x)\n",
    "\n",
    "        gradients = []\n",
    "        \n",
    "        dcostdy = self._cost_function.dcostdy(y, x)\n",
    "        for layer in reversed(self._layers):\n",
    "            gradients.append(layer.dcostdparams(results[-2], results[-1], dcostdy))\n",
    "            dcostdy = layer.dcostdx(results[-2], results[-1], dcostdy)\n",
    "            results.pop()\n",
    "            \n",
    "        gradients.reverse()\n",
    "        return gradients\n",
    "    \n",
    "    def numeric_gradients(self, X, y):\n",
    "        \"This is wrong. I don't know how, but it is wrong.\"\n",
    "        epsilon = 0.0000001\n",
    "        gradients = []\n",
    "        for layer in self._layers:\n",
    "            params = layer.params().reshape(layer.params().size)\n",
    "            layer_gradients = np.zeros(params.size)\n",
    "            gradients.append(layer_gradients)\n",
    "            for i in range(len(params)):\n",
    "                params[i] += epsilon\n",
    "                high = self.compute_cost(X, y)\n",
    "                params[i] -= 2*epsilon\n",
    "                low = self.compute_cost(X, y)\n",
    "                params[i] += epsilon\n",
    "                layer_gradients[i] = (high-low)/epsilon\n",
    "        return gradients\n",
    "    \n",
    "    def update_params(self, gradients):\n",
    "        for i, layer in enumerate(self._layers):\n",
    "            layer.update_params(gradients[i])\n",
    "                \n",
    "    def __repr__(self):\n",
    "        return '<Network: (layers=%s, cost_function=%s)>' % (str(self._layers), str(self._cost_function))"
   ]
  },
  {
   "cell_type": "code",
   "execution_count": 163,
   "metadata": {
    "collapsed": false
   },
   "outputs": [],
   "source": [
    "# Inputs and outputs are column vectors\n",
    "\n",
    "class LinearLayer(Layer):\n",
    "    def __init__(self, input_size, output_size):\n",
    "        # +1 for the bias.\n",
    "        params = 2 * (np.random.rand(input_size + 1, output_size) - 0.5) / np.sqrt(input_size)\n",
    "        self._params = np.round(params, decimals=2)\n",
    "        \n",
    "    def dcostdx(self, x, y, dcostdy):\n",
    "        return dcostdy.dot(self._params.T)[:, 1:]\n",
    "    \n",
    "    def dcostdparams(self, x, y, dcostdy):\n",
    "        # Accept 1-d arrays\n",
    "        if len(x.shape) < 2:\n",
    "            x.shape = (1, x.shape[0])\n",
    "\n",
    "        x = np.hstack((np.ones(shape=(x.shape[0], 1)), x))\n",
    "        return x.T.dot(dcostdy)\n",
    "    \n",
    "    def compute(self, x):\n",
    "        # Accept 1-d arrays\n",
    "        if len(x.shape) < 2:\n",
    "            x.shape = (1, x.shape[0])\n",
    "\n",
    "        x = np.hstack((np.ones(shape=(x.shape[0], 1)), x))\n",
    "        ret = x.dot(self._params)\n",
    "        return ret\n",
    "    \n",
    "    def __repr__(self):\n",
    "        return 'Linear(%s, %s)' % (self._params.shape[1]-1, self._params.shape[0])\n",
    "    \n",
    "from scipy.special import expit\n",
    "\n",
    "class SigmoidLayer(Layer):\n",
    "    def __init__(self):\n",
    "        self._params = np.array([])\n",
    "        \n",
    "    def dcostdx(self, x, y, dcostdy):\n",
    "        return dcostdy * (y * (1-y))\n",
    "        \n",
    "    def compute(self, x):\n",
    "        return expit(x)\n",
    "    \n",
    "    def __repr__(self):\n",
    "        return 'Sigmoid'\n",
    "sigmoidLayer = SigmoidLayer()\n",
    "\n",
    "class LogisticCost(object):\n",
    "    def dcostdy(self, y, y_):\n",
    "        return (y_ - y) / (y_ * (1-y_))\n",
    "        \n",
    "    def compute(self, y, y_):\n",
    "        \"y is the actual value, y_ is the predicted value.\"\n",
    "        epsilon = np.finfo('float64').eps\n",
    "        y_ = np.clip(y_, epsilon, 1.0 - epsilon)\n",
    "        cost = -y * np.log(y_) - (1-y) * np.log(1-y_)\n",
    "        return np.sum(cost, axis=1)\n",
    "    \n",
    "    def __repr__(self):\n",
    "        return 'LogisticCostFunction'\n",
    "logisticCost = LogisticCost()"
   ]
  },
  {
   "cell_type": "code",
   "execution_count": 164,
   "metadata": {
    "collapsed": false
   },
   "outputs": [],
   "source": [
    "def NewNeuralNet(*args):\n",
    "    layers = []\n",
    "    for i in range(len(args)-1):\n",
    "        layers.append(LinearLayer(args[i], args[i+1]))\n",
    "        layers.append(sigmoidLayer)\n",
    "\n",
    "    return Network(layers, logisticCost)"
   ]
  },
  {
   "cell_type": "code",
   "execution_count": 165,
   "metadata": {
    "collapsed": false,
    "scrolled": true
   },
   "outputs": [
    {
     "data": {
      "text/plain": [
       "<matplotlib.collections.PathCollection at 0x7fb6952340d0>"
      ]
     },
     "execution_count": 165,
     "metadata": {},
     "output_type": "execute_result"
    },
    {
     "data": {
      "image/png": "[encoded data removed]",
      "text/plain": [
       "<matplotlib.figure.Figure at 0x7fb69535f150>"
      ]
     },
     "metadata": {},
     "output_type": "display_data"
    }
   ],
   "source": [
    "# Now we generate some synthetic data\n",
    "np.random.seed(10)\n",
    "\n",
    "N = 100\n",
    "X = np.round(np.random.rand(N, 2) * 2 - 1, decimals=2)\n",
    "y = np.zeros((N, 1))\n",
    "\n",
    "for i, x in enumerate(X):\n",
    "    if np.sum(x) > 0:\n",
    "        y[i][0] = 1\n",
    "        \n",
    "np.sum(y, axis=0)\n",
    "\n",
    "\n",
    "X.reshape(X.size)\n",
    "X.shape\n",
    "plt.figure(figsize=(10,10))\n",
    "plt.scatter(X[:, 0], X[:, 1], c=y[:, 0], edgecolors='face')"
   ]
  },
  {
   "cell_type": "code",
   "execution_count": 166,
   "metadata": {
    "collapsed": false
   },
   "outputs": [
    {
     "name": "stdout",
     "output_type": "stream",
     "text": [
      "('backprop_gradients', [array([[ 0.45770134],\n",
      "       [ 0.24715872],\n",
      "       [-0.43939329]]), array([], dtype=float64)])\n",
      "('params', array([[ 0.38],\n",
      "       [-0.68],\n",
      "       [ 0.19]]))\n",
      "('x_sample', array([[ 0.54, -0.96]]))\n",
      "[[ 0.45770134]]\n",
      "0.611938399551\n",
      "(4.5771375245085011e-05, 2.4716234353183708e-05, -4.3938185067537994e-05)\n"
     ]
    }
   ],
   "source": [
    "np.random.seed(10)\n",
    "nn = NewNeuralNet(2, 1)\n",
    "\n",
    "np.random.seed(20)\n",
    "#print(nn.compute_cost(X, y))\n",
    "\n",
    "x_sample = X[0].reshape(1, 2)\n",
    "y_sample = y[0]\n",
    "\n",
    "backprop_gradients = nn.backprop_gradients(x_sample, y_sample)\n",
    "print(\"backprop_gradients\", backprop_gradients)\n",
    "\n",
    "#print(\"numeric_gradients\", nn.numeric_gradients(x_sample, y_sample))\n",
    "\n",
    "print(\"params\", nn._layers[0].params())\n",
    "print(\"x_sample\", x_sample)\n",
    "print(nn.compute(x_sample))\n",
    "\n",
    "original_cost = nn.compute_cost(x_sample, y_sample)\n",
    "print(original_cost)\n",
    "\n",
    "d = 0.0001\n",
    "nn._layers[0]._params[0][0] += d\n",
    "n0_cost = nn.compute_cost(x_sample, y_sample)\n",
    "nn._layers[0]._params[0][0] -= d\n",
    "\n",
    "nn._layers[0]._params[1][0] += d\n",
    "n1_cost = nn.compute_cost(x_sample, y_sample)\n",
    "nn._layers[0]._params[1][0] -= d\n",
    "\n",
    "nn._layers[0]._params[2][0] += d\n",
    "n2_cost = nn.compute_cost(x_sample, y_sample)\n",
    "nn._layers[0]._params[2][0] -= d\n",
    "\n",
    "print(n0_cost - original_cost, n1_cost-original_cost, n2_cost-original_cost)\n"
   ]
  },
  {
   "cell_type": "code",
   "execution_count": 206,
   "metadata": {
    "collapsed": false
   },
   "outputs": [
    {
     "name": "stdout",
     "output_type": "stream",
     "text": [
      "0.668575734234\n",
      "(100, 2)\n",
      "0.0577997114313\n"
     ]
    }
   ],
   "source": [
    "np.random.seed(10)\n",
    "\n",
    "nn = NewNeuralNet(2, 3, 1)\n",
    "print(nn.compute_cost(X, y))\n",
    "print(X.shape)\n",
    "learning_rate = 0.1\n",
    "np.random.seed(20)\n",
    "for i in xrange(1000):\n",
    "    sample_i = np.random.randint(0, len(y))\n",
    "    x_sample = X[sample_i]\n",
    "    y_sample = y[sample_i]\n",
    "    gradients = nn.backprop_gradients(x_sample, y_sample)\n",
    "    gradients[0] *= learning_rate\n",
    "    nn.update_params(gradients)\n",
    "    \n",
    "print(nn.compute_cost(X, y))"
   ]
  }
 ],
 "metadata": {
  "kernelspec": {
   "display_name": "Python 2",
   "language": "python",
   "name": "python2"
  },
  "language_info": {
   "codemirror_mode": {
    "name": "ipython",
    "version": 2
   },
   "file_extension": ".py",
   "mimetype": "text/x-python",
   "name": "python",
   "nbconvert_exporter": "python",
   "pygments_lexer": "ipython2",
   "version": "2.7.6"
  }
 },
 "nbformat": 4,
 "nbformat_minor": 0
}
