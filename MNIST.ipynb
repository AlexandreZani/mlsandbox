{
 "cells": [
  {
   "cell_type": "code",
   "execution_count": 1,
   "metadata": {
    "collapsed": false
   },
   "outputs": [],
   "source": [
    "import numpy as np\n",
    "import mnist\n",
    "import matplotlib.pyplot as plt\n",
    "import ann\n",
    "%matplotlib inline"
   ]
  },
  {
   "cell_type": "code",
   "execution_count": 2,
   "metadata": {
    "collapsed": false
   },
   "outputs": [
    {
     "name": "stdout",
     "output_type": "stream",
     "text": [
      "All good!\n"
     ]
    }
   ],
   "source": [
    "# Load the training set\n",
    "X, labels = mnist.load_mnist(dataset='training', path='data/MNIST_data')\n",
    "copy0 = np.copy(X[0])\n",
    "X.shape = (X.shape[0], 28*28)\n",
    "\n",
    "# Load the test set\n",
    "X_test, labels_test = mnist.load_mnist(dataset='testing', path='data/MNIST_data')\n",
    "X_test.shape = (X_test.shape[0], 28*28)\n",
    "\n",
    "# Convert to one-hot vectors\n",
    "def to_one_hot(labels):\n",
    "    y = np.zeros((len(labels), 10))\n",
    "    for i, label in enumerate(labels):\n",
    "        y[i][label] = 1\n",
    "    return y\n",
    "        \n",
    "y = to_one_hot(labels)\n",
    "y_test = to_one_hot(labels_test)\n",
    "print(\"All good!\")"
   ]
  },
  {
   "cell_type": "code",
   "execution_count": 3,
   "metadata": {
    "collapsed": false
   },
   "outputs": [],
   "source": [
    "import time\n",
    "\n",
    "class Ticker(object):\n",
    "    def __init__(self):\n",
    "        self._start_time = None\n",
    "    \n",
    "    def tick(self, *args):\n",
    "        if self._start_time is None:\n",
    "            self._start_time = time.time()\n",
    "            return\n",
    "        print(\"%s seconds elapsed: %s\" % (time.time() - self._start_time, args))"
   ]
  },
  {
   "cell_type": "code",
   "execution_count": 5,
   "metadata": {
    "collapsed": false
   },
   "outputs": [
    {
     "name": "stdout",
     "output_type": "stream",
     "text": [
      "0.007056713104248047 seconds elapsed: ('ANN Initialized',)\n",
      "6.7736123452\n",
      "4.670071125030518 seconds elapsed: ('First cost computation',)\n",
      "4.6702046394348145 seconds elapsed: (0,)\n",
      "7.87324595451355 seconds elapsed: (1000,)\n",
      "11.049067497253418 seconds elapsed: (2000,)\n",
      "14.315618753433228 seconds elapsed: (3000,)\n",
      "17.33795189857483 seconds elapsed: (4000,)\n",
      "20.365473985671997 seconds elapsed: (5000,)\n",
      "23.38430118560791 seconds elapsed: (6000,)\n",
      "26.497598886489868 seconds elapsed: (7000,)\n",
      "29.547165870666504 seconds elapsed: (8000,)\n",
      "32.64728283882141 seconds elapsed: (9000,)\n",
      "35.816150426864624 seconds elapsed: (10000,)\n",
      "38.85640025138855 seconds elapsed: (11000,)\n",
      "41.75806522369385 seconds elapsed: (12000,)\n",
      "44.69830632209778 seconds elapsed: (13000,)\n",
      "47.5934681892395 seconds elapsed: (14000,)\n",
      "50.53240466117859 seconds elapsed: (15000,)\n",
      "53.4370858669281 seconds elapsed: (16000,)\n",
      "56.401376724243164 seconds elapsed: (17000,)\n",
      "59.34281802177429 seconds elapsed: (18000,)\n",
      "62.53914737701416 seconds elapsed: (19000,)\n",
      "65.59482836723328 seconds elapsed: ('Training done!',)\n",
      "0.57914931631\n",
      "70.04198479652405 seconds elapsed: ('Final cost computation!',)\n"
     ]
    }
   ],
   "source": [
    "np.random.seed(10)\n",
    "ticker = Ticker()\n",
    "ticker.tick()\n",
    "nn = ann.NewNeuralNet(28*28, 300, 10)\n",
    "ticker.tick(\"ANN Initialized\")\n",
    "print(nn.compute_cost(X_test, y_test))\n",
    "ticker.tick(\"First cost computation\")\n",
    "ann.StochasticGradientDescent(nn, X, y, learning_rate=0.1, iterations=20000, callback_period=1000, callback=ticker.tick)\n",
    "ticker.tick(\"Training done!\")\n",
    "print(nn.compute_cost(X_test, y_test))\n",
    "ticker.tick(\"Final cost computation!\")"
   ]
  },
  {
   "cell_type": "code",
   "execution_count": null,
   "metadata": {
    "collapsed": true
   },
   "outputs": [],
   "source": []
  }
 ],
 "metadata": {
  "kernelspec": {
   "display_name": "Python 3",
   "language": "python",
   "name": "python3"
  },
  "language_info": {
   "codemirror_mode": {
    "name": "ipython",
    "version": 3
   },
   "file_extension": ".py",
   "mimetype": "text/x-python",
   "name": "python",
   "nbconvert_exporter": "python",
   "pygments_lexer": "ipython3",
   "version": "3.4.3"
  }
 },
 "nbformat": 4,
 "nbformat_minor": 0
}
