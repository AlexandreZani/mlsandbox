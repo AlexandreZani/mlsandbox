{
 "cells": [
  {
   "cell_type": "code",
   "execution_count": 1,
   "metadata": {
    "collapsed": false
   },
   "outputs": [],
   "source": [
    "import numpy as np\n",
    "import mnist\n",
    "import matplotlib.pyplot as plt\n",
    "import ann\n",
    "%matplotlib inline"
   ]
  },
  {
   "cell_type": "code",
   "execution_count": 2,
   "metadata": {
    "collapsed": false
   },
   "outputs": [
    {
     "name": "stdout",
     "output_type": "stream",
     "text": [
      "All good!\n"
     ]
    }
   ],
   "source": [
    "# Load the training set\n",
    "X, labels = mnist.load_mnist(dataset='training', path='data/MNIST_data')\n",
    "copy0 = np.copy(X[0])\n",
    "X.shape = (X.shape[0], 28*28)\n",
    "\n",
    "# Load the test set\n",
    "X_test, labels_test = mnist.load_mnist(dataset='testing', path='data/MNIST_data')\n",
    "X_test.shape = (X_test.shape[0], 28*28)\n",
    "\n",
    "# Convert to one-hot vectors\n",
    "def to_one_hot(labels):\n",
    "    y = np.zeros((len(labels), 10))\n",
    "    for i, label in enumerate(labels):\n",
    "        y[i][label] = 1\n",
    "    return y\n",
    "        \n",
    "y = to_one_hot(labels)\n",
    "y_test = to_one_hot(labels_test)\n",
    "print(\"All good!\")"
   ]
  },
  {
   "cell_type": "code",
   "execution_count": 3,
   "metadata": {
    "collapsed": false
   },
   "outputs": [],
   "source": [
    "import time\n",
    "\n",
    "class Ticker(object):\n",
    "    def __init__(self):\n",
    "        self._start_time = None\n",
    "    \n",
    "    def tick(self, *args):\n",
    "        if self._start_time is None:\n",
    "            self._start_time = time.time()\n",
    "            return\n",
    "        print(\"%s seconds elapsed: %s\" % (time.time() - self._start_time, args))"
   ]
  },
  {
   "cell_type": "code",
   "execution_count": 4,
   "metadata": {
    "collapsed": false
   },
   "outputs": [],
   "source": [
    "def get_error_ratio(nn):\n",
    "    hit = 0\n",
    "    for i, x in enumerate(X_test):\n",
    "        y_ = nn.compute(x)\n",
    "        l_ = np.argmax(y_)\n",
    "        if l_ == labels_test[i]:\n",
    "            hit += 1\n",
    "\n",
    "    return 1-(hit/len(labels_test))"
   ]
  },
  {
   "cell_type": "code",
   "execution_count": 5,
   "metadata": {
    "collapsed": false
   },
   "outputs": [],
   "source": [
    "import time\n",
    "\n",
    "archs = {}\n",
    "def test_arch(*args):\n",
    "    np.random.seed(10)\n",
    "    nn = ann.NewNeuralNet(*args)\n",
    "    start_time = time.time()\n",
    "    ann.StochasticGradientDescent(nn, X, y, learning_rate=0.2, iterations=10000)\n",
    "    training_time = time.time() - start_time\n",
    "    final_cost = nn.compute_cost(X_test, y_test)\n",
    "    error_ratio = 100*get_error_ratio(nn)\n",
    "    print(\"arch: %s, training_time (sec): %s, final_cost: %s, error_ratio: %s\" % (args, training_time, final_cost, error_ratio))\n",
    "    archs[args] = nn"
   ]
  },
  {
   "cell_type": "code",
   "execution_count": 6,
   "metadata": {
    "collapsed": false
   },
   "outputs": [
    {
     "name": "stdout",
     "output_type": "stream",
     "text": [
      "arch: (784, 10), training_time (sec): 2.189617872238159, final_cost: 0.804691605819, error_ratio: 10.819999999999997\n",
      "arch: (784, 300, 10), training_time (sec): 32.70547699928284, final_cost: 0.612526264324, error_ratio: 9.519999999999996\n",
      "arch: (784, 800, 10), training_time (sec): 133.7222011089325, final_cost: 0.674897398506, error_ratio: 10.360000000000003\n"
     ]
    }
   ],
   "source": [
    "test_arch(28*28, 10)\n",
    "test_arch(28*28, 300, 10)\n",
    "test_arch(28*28, 800, 10)"
   ]
  },
  {
   "cell_type": "code",
   "execution_count": 7,
   "metadata": {
    "collapsed": false
   },
   "outputs": [
    {
     "data": {
      "text/plain": [
       "<matplotlib.image.AxesImage at 0x7f046c115780>"
      ]
     },
     "execution_count": 7,
     "metadata": {},
     "output_type": "execute_result"
    },
    {
     "data": {
      "image/png": "[encoded data removed]",
      "text/plain": [
       "<matplotlib.figure.Figure at 0x7f046c1b0518>"
      ]
     },
     "metadata": {},
     "output_type": "display_data"
    }
   ],
   "source": [
    "def conf_matrix(nn):\n",
    "    matrix = np.zeros((10, 10))\n",
    "    for i, x in enumerate(X_test):\n",
    "        y_ = nn.compute(x)\n",
    "        l_ = np.argmax(y_)\n",
    "        actual = labels_test[i]\n",
    "        matrix[l_][actual] += 1\n",
    "    return matrix\n",
    "\n",
    "plt.matshow(conf_matrix(archs[(784, 10)]))"
   ]
  }
 ],
 "metadata": {
  "kernelspec": {
   "display_name": "Python 3",
   "language": "python",
   "name": "python3"
  },
  "language_info": {
   "codemirror_mode": {
    "name": "ipython",
    "version": 3
   },
   "file_extension": ".py",
   "mimetype": "text/x-python",
   "name": "python",
   "nbconvert_exporter": "python",
   "pygments_lexer": "ipython3",
   "version": "3.4.3"
  }
 },
 "nbformat": 4,
 "nbformat_minor": 0
}
