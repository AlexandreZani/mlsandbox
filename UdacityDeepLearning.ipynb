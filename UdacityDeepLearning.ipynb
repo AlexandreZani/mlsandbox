{
 "cells": [
  {
   "cell_type": "code",
   "execution_count": 1,
   "metadata": {
    "collapsed": false
   },
   "outputs": [],
   "source": [
    "import pickle\n",
    "import numpy as np\n",
    "import matplotlib.pyplot as plt\n",
    "import tensorflow as tf\n",
    "%matplotlib inline"
   ]
  },
  {
   "cell_type": "code",
   "execution_count": 2,
   "metadata": {
    "collapsed": false
   },
   "outputs": [
    {
     "name": "stdout",
     "output_type": "stream",
     "text": [
      "dict_keys(['train_labels', 'valid_dataset', 'test_labels', 'valid_labels', 'train_dataset', 'test_dataset'])\n",
      "train_labels (50000,)\n",
      "valid_dataset (10000, 28, 28)\n",
      "test_labels (10000,)\n",
      "valid_labels (10000,)\n",
      "train_dataset (50000, 28, 28)\n",
      "test_dataset (10000, 28, 28)\n"
     ]
    }
   ],
   "source": [
    "with open(\"data/notMNIST.pickle\", \"rb\") as f:\n",
    "    dataset = pickle.load(f)\n",
    "print(dataset.keys())\n",
    "\n",
    "\n",
    "for k, v in dataset.items():\n",
    "    print(k, v.shape)\n",
    "\n",
    "locals().update(dataset)\n",
    "del dataset\n",
    "#train_labels.shape = (len(train_labels), 1)\n",
    "#test_labels.shape = (len(test_labels), 1)\n",
    "#valid_labels.shape = (len(valid_labels), 1)\n",
    "\n",
    "\n",
    "feature_num = train_dataset.shape[1] * train_dataset.shape[2]"
   ]
  },
  {
   "cell_type": "code",
   "execution_count": 3,
   "metadata": {
    "collapsed": false
   },
   "outputs": [
    {
     "name": "stdout",
     "output_type": "stream",
     "text": [
      "(50000, 10) [ 4952.  5012.  5045.  4986.  5052.  5019.  5031.  4948.  5005.  4950.]\n",
      "(10000, 10) [ 1000.  1000.  1000.  1000.  1000.  1000.  1000.  1000.  1000.  1000.]\n",
      "(10000, 10) [ 1000.  1000.  1000.  1000.  1000.  1000.  1000.  1000.  1000.  1000.]\n"
     ]
    }
   ],
   "source": [
    "from sklearn import preprocessing\n",
    "\n",
    "features_num = 28*28\n",
    "oneHotEncoder = preprocessing.OneHotEncoder()\n",
    "\n",
    "def reformat(dataset, labels):\n",
    "    num = dataset.shape[0]\n",
    "    dataset = np.reshape(dataset, newshape=(num, features_num)).astype(np.float32)\n",
    "    labels = np.reshape(labels, newshape=(num, 1))\n",
    "    y = oneHotEncoder.fit_transform(labels).toarray().astype(np.float32)\n",
    "    return dataset, labels, y\n",
    "\n",
    "train_dataset, train_labels, train_y = reformat(train_dataset, train_labels)\n",
    "valid_dataset, valid_labels, valid_y = reformat(valid_dataset, valid_labels)\n",
    "test_dataset, test_labels, test_y = reformat(test_dataset, test_labels)\n",
    "\n",
    "print(train_y.shape, np.sum(train_y, axis=0))\n",
    "print(valid_y.shape, np.sum(valid_y, axis=0))\n",
    "print(test_y.shape, np.sum(test_y, axis=0))"
   ]
  },
  {
   "cell_type": "code",
   "execution_count": 4,
   "metadata": {
    "collapsed": false
   },
   "outputs": [],
   "source": [
    "def accuracy(predictions, labels):\n",
    "  return (100.0 * np.sum(np.argmax(predictions, 1) == np.argmax(labels, 1))\n",
    "          / predictions.shape[0])"
   ]
  },
  {
   "cell_type": "code",
   "execution_count": 5,
   "metadata": {
    "collapsed": false
   },
   "outputs": [],
   "source": [
    "batch_size = 128\n",
    "\n",
    "class NN(object):\n",
    "    def __init__(self, layer_sizes):\n",
    "        self.weights = []\n",
    "        self.biases = []\n",
    "        for i in range(len(layer_sizes)-1):\n",
    "            input_sz = layer_sizes[i]\n",
    "            output_sz = layer_sizes[i+1]\n",
    "            weights = tf.Variable(tf.truncated_normal([input_sz, output_sz]))\n",
    "            biases = tf.Variable(tf.zeros([output_sz]))\n",
    "            self.weights.append(weights)\n",
    "            self.biases.append(biases)\n",
    "            \n",
    "    def get_logits(self, X, dropout_rate=None):\n",
    "        for i in range(len(self.weights)):\n",
    "            weights = self.weights[i]\n",
    "            biases = self.biases[i]\n",
    "            logits = tf.matmul(X, weights) + biases\n",
    "            if dropout_rate is not None:\n",
    "                logits = tf.nn.dropout(logits, dropout_rate)\n",
    "            X = tf.nn.relu(logits)\n",
    "        return logits\n",
    "    \n",
    "    def get_regularization_param(self):\n",
    "        return sum(tf.nn.l2_loss(weights) for weights in self.weights)\n",
    "\n",
    "def TryTraining(layers, num_steps, freq, learning_rate,\n",
    "                regularization_rate=None, dropout_rate=None, learning_decay_rate=None,\n",
    "                gradient_clipping=False):\n",
    "    valid_accuracy = np.zeros([int(num_steps/freq)])\n",
    "    \n",
    "    graph = tf.Graph()\n",
    "    with graph.as_default():\n",
    "        tf_train_dataset = tf.placeholder(tf.float32, shape=(batch_size, 28*28))\n",
    "        tf_train_y = tf.placeholder(tf.float32, shape=(batch_size, 10))\n",
    "        tf_valid_dataset = tf.constant(valid_dataset)\n",
    "        tf_test_dataset = tf.constant(test_dataset)\n",
    "\n",
    "        global_step = tf.Variable(0)\n",
    "        if learning_decay_rate is None:\n",
    "            tf_learning_rate = learning_rate\n",
    "        else:\n",
    "            tf_learning_rate = tf.train.exponential_decay(\n",
    "                learning_rate=learning_rate,\n",
    "                global_step=global_step,\n",
    "                decay_steps=1000,\n",
    "                decay_rate=learning_decay_rate)\n",
    "\n",
    "\n",
    "        nn = NN(layers)\n",
    "\n",
    "        layer1_logits = nn.get_logits(tf_train_dataset, dropout_rate=dropout_rate)\n",
    "        \n",
    "        loss = tf.reduce_mean(tf.nn.softmax_cross_entropy_with_logits(layer1_logits, tf_train_y))\n",
    "        if regularization_rate is not None:\n",
    "            regularization_param = nn.get_regularization_param()\n",
    "            loss += regularization_rate * regularization_param\n",
    "\n",
    "        optimizer = tf.train.GradientDescentOptimizer(learning_rate)\n",
    "        if gradient_clipping:\n",
    "            gradients = optimizer.compute_gradients(loss)\n",
    "            \n",
    "            def ClipIfNotNone(grad):\n",
    "                if grad is None:\n",
    "                    return grad\n",
    "                return tf.clip_by_value(grad, -1, 1)\n",
    "            clipped_gradients = [(ClipIfNotNone(grad), var) for grad, var in gradients]\n",
    "            opt = optimizer.apply_gradients(clipped_gradients, global_step=global_step)\n",
    "        else:\n",
    "            opt = optimizer.minimize(loss, global_step=global_step)\n",
    "\n",
    "        train_prediction = tf.nn.softmax(layer1_logits)\n",
    "        valid_prediction = tf.nn.softmax(nn.get_logits(tf_valid_dataset))\n",
    "        test_prediction = tf.nn.softmax(nn.get_logits(tf_test_dataset))\n",
    "    \n",
    "    with tf.Session(graph=graph) as session:\n",
    "        tf.initialize_all_variables().run()\n",
    "        print('Initialized')\n",
    "\n",
    "        for step in range(num_steps):\n",
    "            offset = (step * batch_size) % (train_y.shape[0] - batch_size)\n",
    "            batch_data = train_dataset[offset:offset+batch_size]\n",
    "            batch_y = train_y[offset:offset+batch_size]\n",
    "            feed_dict = {\n",
    "                tf_train_dataset: batch_data,\n",
    "                tf_train_y: batch_y,\n",
    "            }\n",
    "            _, l, predictions = session.run([opt, loss, train_prediction], feed_dict=feed_dict)\n",
    "            if (step % freq) == 1:\n",
    "                valid_accuracy[int(step/freq)] = accuracy(valid_prediction.eval(), valid_y)\n",
    "\n",
    "            if (step % 500) == 0:\n",
    "                print('Loss at step %d: %f' % (step, l))\n",
    "                #print('Training accuracy: %.1f%%' % accuracy(predictions, batch_y))\n",
    "        print('Validation accuracy: %.1f%%' % accuracy(valid_prediction.eval(), valid_y))\n",
    "        #print('Test accuracy: %.1f%%' % accuracy(test_prediction.eval(), test_y))\n",
    "\n",
    "    plt.plot(valid_accuracy)\n",
    "    plt.figure(figsize=(10,10))\n",
    "    plt.show()"
   ]
  },
  {
   "cell_type": "code",
   "execution_count": 6,
   "metadata": {
    "collapsed": false
   },
   "outputs": [
    {
     "name": "stdout",
     "output_type": "stream",
     "text": [
      "Initialized\n",
      "Loss at step 0: 12.964008\n",
      "Loss at step 500: 2.270380\n",
      "Loss at step 1000: 0.529760\n",
      "Loss at step 1500: 0.857488\n",
      "Loss at step 2000: 0.916729\n",
      "Loss at step 2500: 0.969137\n",
      "Loss at step 3000: 0.904657\n",
      "Validation accuracy: 78.5%\n"
     ]
    },
    {
     "data": {
      "image/png": "[encoded data removed]",
      "text/plain": [
       "<matplotlib.figure.Figure at 0x7f729c825588>"
      ]
     },
     "metadata": {},
     "output_type": "display_data"
    },
    {
     "data": {
      "text/plain": [
       "<matplotlib.figure.Figure at 0x7f729a7c32e8>"
      ]
     },
     "metadata": {},
     "output_type": "display_data"
    }
   ],
   "source": [
    "TryTraining(\n",
    "    layers=[28*28, 10],\n",
    "    num_steps=3001,\n",
    "    freq=100,\n",
    "    learning_rate=0.5,\n",
    "    regularization_rate=None)"
   ]
  },
  {
   "cell_type": "code",
   "execution_count": 7,
   "metadata": {
    "collapsed": false,
    "scrolled": false
   },
   "outputs": [
    {
     "name": "stdout",
     "output_type": "stream",
     "text": [
      "Initialized\n",
      "Loss at step 0: 194.925400\n",
      "Loss at step 500: 15.200276\n",
      "Loss at step 1000: 4.063701\n",
      "Loss at step 1500: 2.985816\n",
      "Loss at step 2000: 3.987104\n",
      "Loss at step 2500: 2.343935\n",
      "Loss at step 3000: 2.896843\n",
      "Validation accuracy: 80.0%\n"
     ]
    },
    {
     "data": {
      "image/png": "[encoded data removed]",
      "text/plain": [
       "<matplotlib.figure.Figure at 0x7f7299ea8940>"
      ]
     },
     "metadata": {},
     "output_type": "display_data"
    },
    {
     "data": {
      "text/plain": [
       "<matplotlib.figure.Figure at 0x7f7299e1f400>"
      ]
     },
     "metadata": {},
     "output_type": "display_data"
    }
   ],
   "source": [
    "TryTraining(\n",
    "    layers=[28*28, 300, 10],\n",
    "    num_steps=3001,\n",
    "    freq=100,\n",
    "    learning_rate=0.05,\n",
    "    regularization_rate=None)"
   ]
  },
  {
   "cell_type": "code",
   "execution_count": 8,
   "metadata": {
    "collapsed": false
   },
   "outputs": [
    {
     "name": "stdout",
     "output_type": "stream",
     "text": [
      "Initialized\n",
      "Loss at step 0: 1092.774536\n",
      "Loss at step 500: 564.962341\n",
      "Loss at step 1000: 336.404114\n",
      "Loss at step 1500: 203.905655\n",
      "Loss at step 2000: 123.262093\n",
      "Loss at step 2500: 74.922379\n",
      "Loss at step 3000: 45.570152\n",
      "Validation accuracy: 83.6%\n"
     ]
    },
    {
     "data": {
      "image/png": "[encoded data removed]",
      "text/plain": [
       "<matplotlib.figure.Figure at 0x7f7299e23a90>"
      ]
     },
     "metadata": {},
     "output_type": "display_data"
    },
    {
     "data": {
      "text/plain": [
       "<matplotlib.figure.Figure at 0x7f7299e60dd8>"
      ]
     },
     "metadata": {},
     "output_type": "display_data"
    }
   ],
   "source": [
    "TryTraining(\n",
    "    layers=[28*28, 300, 10],\n",
    "    num_steps=3001,\n",
    "    freq=100,\n",
    "    learning_rate=0.05,\n",
    "    regularization_rate=0.01)"
   ]
  },
  {
   "cell_type": "code",
   "execution_count": 12,
   "metadata": {
    "collapsed": false
   },
   "outputs": [
    {
     "name": "stdout",
     "output_type": "stream",
     "text": [
      "Initialized\n",
      "Loss at step 0: 1109.984619\n",
      "Loss at step 500: 563.473083\n",
      "Loss at step 1000: 336.474640\n",
      "Loss at step 1500: 203.431625\n",
      "Loss at step 2000: 123.164917\n",
      "Loss at step 2500: 74.798798\n",
      "Loss at step 3000: 45.535839\n",
      "Loss at step 3500: 27.911345\n",
      "Loss at step 4000: 17.152798\n",
      "Loss at step 4500: 10.685183\n",
      "Loss at step 5000: 6.614392\n",
      "Validation accuracy: 84.9%\n"
     ]
    },
    {
     "data": {
      "image/png": "[encoded data removed]",
      "text/plain": [
       "<matplotlib.figure.Figure at 0x7f7299e3ffd0>"
      ]
     },
     "metadata": {},
     "output_type": "display_data"
    },
    {
     "data": {
      "text/plain": [
       "<matplotlib.figure.Figure at 0x7f7299cbb908>"
      ]
     },
     "metadata": {},
     "output_type": "display_data"
    }
   ],
   "source": [
    "TryTraining(\n",
    "    layers=[28*28, 300, 10],\n",
    "    num_steps=5001,\n",
    "    freq=100,\n",
    "    learning_rate=0.05,\n",
    "    learning_decay_rate=0.5,\n",
    "    regularization_rate=0.01,\n",
    "    gradient_clipping=True)"
   ]
  },
  {
   "cell_type": "code",
   "execution_count": 11,
   "metadata": {
    "collapsed": false,
    "scrolled": true
   },
   "outputs": [
    {
     "name": "stdout",
     "output_type": "stream",
     "text": [
      "Initialized\n",
      "Loss at step 0: 178639.328125\n",
      "Loss at step 500: 159.565292\n",
      "Loss at step 1000: 4.142546\n",
      "Loss at step 1500: 2.318361\n",
      "Loss at step 2000: 2.303584\n",
      "Loss at step 2500: 2.309941\n",
      "Loss at step 3000: 2.305756\n",
      "Loss at step 3500: 2.310710\n",
      "Loss at step 4000: 2.312810\n",
      "Loss at step 4500: 2.298338\n",
      "Loss at step 5000: 2.320262\n",
      "Loss at step 5500: 2.325629\n",
      "Loss at step 6000: 2.307915\n",
      "Loss at step 6500: 2.302291\n",
      "Loss at step 7000: 2.311888\n",
      "Loss at step 7500: 2.296334\n",
      "Loss at step 8000: 2.297393\n",
      "Loss at step 8500: 2.309229\n",
      "Loss at step 9000: 2.293929\n",
      "Loss at step 9500: 2.324457\n",
      "Loss at step 10000: 2.298567\n",
      "Validation accuracy: 10.0%\n"
     ]
    },
    {
     "data": {
      "image/png": "[encoded data removed]",
      "text/plain": [
       "<matplotlib.figure.Figure at 0x7f7299e375c0>"
      ]
     },
     "metadata": {},
     "output_type": "display_data"
    },
    {
     "data": {
      "text/plain": [
       "<matplotlib.figure.Figure at 0x7f7299d0ed30>"
      ]
     },
     "metadata": {},
     "output_type": "display_data"
    }
   ],
   "source": [
    "TryTraining(\n",
    "    layers=[28*28, 1024, 300, 50, 10],\n",
    "    num_steps=10001,\n",
    "    freq=100,\n",
    "    learning_rate=0.5,\n",
    "    dropout_rate=0.25,\n",
    "    learning_decay_rate=0.5,\n",
    "    regularization_rate=0.01,\n",
    "    gradient_clipping=True)"
   ]
  }
 ],
 "metadata": {
  "kernelspec": {
   "display_name": "Python 3",
   "language": "python",
   "name": "python3"
  },
  "language_info": {
   "codemirror_mode": {
    "name": "ipython",
    "version": 3
   },
   "file_extension": ".py",
   "mimetype": "text/x-python",
   "name": "python",
   "nbconvert_exporter": "python",
   "pygments_lexer": "ipython3",
   "version": "3.4.3"
  }
 },
 "nbformat": 4,
 "nbformat_minor": 0
}
